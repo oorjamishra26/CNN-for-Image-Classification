{
  "nbformat": 4,
  "nbformat_minor": 0,
  "metadata": {
    "colab": {
      "provenance": []
    },
    "kernelspec": {
      "name": "python3",
      "display_name": "Python 3"
    },
    "language_info": {
      "name": "python"
    }
  },
  "cells": [
    {
      "cell_type": "code",
      "execution_count": 1,
      "metadata": {
        "colab": {
          "base_uri": "https://localhost:8080/"
        },
        "id": "51hJNW03Q-36",
        "outputId": "48ba8343-9088-4e82-9412-d20f9adc610f"
      },
      "outputs": [
        {
          "output_type": "stream",
          "name": "stdout",
          "text": [
            "Downloading data from https://storage.googleapis.com/tensorflow/tf-keras-datasets/mnist.npz\n",
            "11490434/11490434 [==============================] - 1s 0us/step\n",
            "Model: \"sequential\"\n",
            "_________________________________________________________________\n",
            " Layer (type)                Output Shape              Param #   \n",
            "=================================================================\n",
            " conv2d (Conv2D)             (None, 26, 26, 28)        280       \n",
            "                                                                 \n",
            " max_pooling2d (MaxPooling2  (None, 13, 13, 28)        0         \n",
            " D)                                                              \n",
            "                                                                 \n",
            " conv2d_1 (Conv2D)           (None, 11, 11, 56)        14168     \n",
            "                                                                 \n",
            " max_pooling2d_1 (MaxPoolin  (None, 5, 5, 56)          0         \n",
            " g2D)                                                            \n",
            "                                                                 \n",
            " conv2d_2 (Conv2D)           (None, 3, 3, 56)          28280     \n",
            "                                                                 \n",
            "=================================================================\n",
            "Total params: 42728 (166.91 KB)\n",
            "Trainable params: 42728 (166.91 KB)\n",
            "Non-trainable params: 0 (0.00 Byte)\n",
            "_________________________________________________________________\n"
          ]
        }
      ],
      "source": [
        "import tensorflow as tf\n",
        "from tensorflow.keras import datasets, layers, models\n",
        "import matplotlib.pyplot as plt\n",
        "\n",
        "mnist = tf.keras.datasets.mnist\n",
        "(x_train, y_train), (x_test, y_test) = mnist.load_data()\n",
        "x_train, x_test = x_train/255.0, x_test/255.0\n",
        "\n",
        "model = models.Sequential()\n",
        "model.add(layers.Conv2D(28, (3, 3), activation='relu', input_shape=(28, 28,1)))   # 1 id to add depth for greyscale image and 3 for RGB\n",
        "model.add(layers.MaxPooling2D (2, 2))\n",
        "model.add(layers.Conv2D (56, (3, 3), activation = 'relu'))\n",
        "model.add(layers.MaxPooling2D (2, 2))\n",
        "model.add(layers.Conv2D (56, (3, 3), activation = 'relu'))\n",
        "\n",
        "model.summary()"
      ]
    },
    {
      "cell_type": "code",
      "source": [
        "x_train.shape"
      ],
      "metadata": {
        "colab": {
          "base_uri": "https://localhost:8080/"
        },
        "id": "Abr9W4CDYqBZ",
        "outputId": "5ece71fe-ea03-49ab-b6f2-f4b41e66fd49"
      },
      "execution_count": 2,
      "outputs": [
        {
          "output_type": "execute_result",
          "data": {
            "text/plain": [
              "(60000, 28, 28)"
            ]
          },
          "metadata": {},
          "execution_count": 2
        }
      ]
    },
    {
      "cell_type": "code",
      "source": [
        "model.add(layers.Flatten()) #Dense layers take vectors as input (which are 1D), while the current output is a 3D tensor. First, you will flatten (or unroll) the 3D output to 1D\n",
        "model.add(layers.Dense(56, activation='relu'))\n",
        "model.add(layers.Dense(10)) #mnist has 10 output classes (0-9 digits), so you use a final Dense layer with 10 outputs\n",
        "model.summary()"
      ],
      "metadata": {
        "colab": {
          "base_uri": "https://localhost:8080/"
        },
        "id": "LUIW2MphTz-h",
        "outputId": "8d8a4649-f44a-4fd2-8ff1-c9d9d789387e"
      },
      "execution_count": 3,
      "outputs": [
        {
          "output_type": "stream",
          "name": "stdout",
          "text": [
            "Model: \"sequential\"\n",
            "_________________________________________________________________\n",
            " Layer (type)                Output Shape              Param #   \n",
            "=================================================================\n",
            " conv2d (Conv2D)             (None, 26, 26, 28)        280       \n",
            "                                                                 \n",
            " max_pooling2d (MaxPooling2  (None, 13, 13, 28)        0         \n",
            " D)                                                              \n",
            "                                                                 \n",
            " conv2d_1 (Conv2D)           (None, 11, 11, 56)        14168     \n",
            "                                                                 \n",
            " max_pooling2d_1 (MaxPoolin  (None, 5, 5, 56)          0         \n",
            " g2D)                                                            \n",
            "                                                                 \n",
            " conv2d_2 (Conv2D)           (None, 3, 3, 56)          28280     \n",
            "                                                                 \n",
            " flatten (Flatten)           (None, 504)               0         \n",
            "                                                                 \n",
            " dense (Dense)               (None, 56)                28280     \n",
            "                                                                 \n",
            " dense_1 (Dense)             (None, 10)                570       \n",
            "                                                                 \n",
            "=================================================================\n",
            "Total params: 71578 (279.60 KB)\n",
            "Trainable params: 71578 (279.60 KB)\n",
            "Non-trainable params: 0 (0.00 Byte)\n",
            "_________________________________________________________________\n"
          ]
        }
      ]
    },
    {
      "cell_type": "markdown",
      "source": [
        "Training the model using \"Adam\" Optimizer"
      ],
      "metadata": {
        "id": "Y919_ELwBQhN"
      }
    },
    {
      "cell_type": "code",
      "source": [
        "model.compile(optimizer='adam',\n",
        "              loss = tf.keras.losses.SparseCategoricalCrossentropy(from_logits=True),\n",
        "              metrics = ['accuracy'])\n",
        "\n",
        "history = model.fit(x_train, y_train, epochs=10,\n",
        "                    validation_data=(x_test, y_test))\n",
        "\n"
      ],
      "metadata": {
        "colab": {
          "base_uri": "https://localhost:8080/"
        },
        "id": "rXldEXbHUYOv",
        "outputId": "e0b7b44c-22db-45a0-8118-879fbca0ad5f"
      },
      "execution_count": 4,
      "outputs": [
        {
          "output_type": "stream",
          "name": "stdout",
          "text": [
            "Epoch 1/10\n",
            "1875/1875 [==============================] - 63s 33ms/step - loss: 0.1493 - accuracy: 0.9522 - val_loss: 0.0615 - val_accuracy: 0.9798\n",
            "Epoch 2/10\n",
            "1875/1875 [==============================] - 63s 34ms/step - loss: 0.0481 - accuracy: 0.9849 - val_loss: 0.0401 - val_accuracy: 0.9867\n",
            "Epoch 3/10\n",
            "1875/1875 [==============================] - 61s 33ms/step - loss: 0.0346 - accuracy: 0.9894 - val_loss: 0.0283 - val_accuracy: 0.9906\n",
            "Epoch 4/10\n",
            "1875/1875 [==============================] - 63s 33ms/step - loss: 0.0259 - accuracy: 0.9916 - val_loss: 0.0343 - val_accuracy: 0.9894\n",
            "Epoch 5/10\n",
            "1875/1875 [==============================] - 62s 33ms/step - loss: 0.0212 - accuracy: 0.9928 - val_loss: 0.0324 - val_accuracy: 0.9901\n",
            "Epoch 6/10\n",
            "1875/1875 [==============================] - 58s 31ms/step - loss: 0.0181 - accuracy: 0.9939 - val_loss: 0.0283 - val_accuracy: 0.9919\n",
            "Epoch 7/10\n",
            "1875/1875 [==============================] - 60s 32ms/step - loss: 0.0148 - accuracy: 0.9954 - val_loss: 0.0369 - val_accuracy: 0.9894\n",
            "Epoch 8/10\n",
            "1875/1875 [==============================] - 75s 40ms/step - loss: 0.0114 - accuracy: 0.9961 - val_loss: 0.0281 - val_accuracy: 0.9915\n",
            "Epoch 9/10\n",
            "1875/1875 [==============================] - 62s 33ms/step - loss: 0.0119 - accuracy: 0.9962 - val_loss: 0.0346 - val_accuracy: 0.9900\n",
            "Epoch 10/10\n",
            "1875/1875 [==============================] - 59s 32ms/step - loss: 0.0089 - accuracy: 0.9967 - val_loss: 0.0374 - val_accuracy: 0.9896\n"
          ]
        }
      ]
    },
    {
      "cell_type": "code",
      "source": [
        "plt.plot(history.history['accuracy'], label = 'accuracy')\n",
        "plt.plot(history.history['val_accuracy'], label = 'val_accuracy')\n",
        "plt.xlabel('Epoch')\n",
        "plt.ylabel('Accuracy')\n",
        "plt.ylim([0.5, 1])\n",
        "plt.legend(loc='lower right')"
      ],
      "metadata": {
        "colab": {
          "base_uri": "https://localhost:8080/",
          "height": 473
        },
        "id": "qeXZ-P5LWT-J",
        "outputId": "51c2f951-e07f-4416-f612-69d5e0ed29c1"
      },
      "execution_count": 5,
      "outputs": [
        {
          "output_type": "execute_result",
          "data": {
            "text/plain": [
              "<matplotlib.legend.Legend at 0x78a3856e9270>"
            ]
          },
          "metadata": {},
          "execution_count": 5
        },
        {
          "output_type": "display_data",
          "data": {
            "text/plain": [
              "<Figure size 640x480 with 1 Axes>"
            ],
            "image/png": "[encoded data removed]"
          },
          "metadata": {}
        }
      ]
    },
    {
      "cell_type": "code",
      "source": [
        "test_loss, test_acc = model.evaluate(x_test, y_test, verbose=2)\n",
        "print(test_acc)"
      ],
      "metadata": {
        "colab": {
          "base_uri": "https://localhost:8080/"
        },
        "id": "LDilgXaNa4Y6",
        "outputId": "9dc3a776-85fb-435d-e85c-955572ae1c92"
      },
      "execution_count": 6,
      "outputs": [
        {
          "output_type": "stream",
          "name": "stdout",
          "text": [
            "313/313 - 4s - loss: 0.0374 - accuracy: 0.9896 - 4s/epoch - 14ms/step\n",
            "0.9896000027656555\n"
          ]
        }
      ]
    },
    {
      "cell_type": "code",
      "source": [
        "pip install opencv-python"
      ],
      "metadata": {
        "colab": {
          "base_uri": "https://localhost:8080/"
        },
        "id": "6WdlBX7gBnYd",
        "outputId": "01c5eaa3-015a-4b06-c64e-0a52b500ccb3"
      },
      "execution_count": 7,
      "outputs": [
        {
          "output_type": "stream",
          "name": "stdout",
          "text": [
            "Requirement already satisfied: opencv-python in /usr/local/lib/python3.10/dist-packages (4.8.0.76)\n",
            "Requirement already satisfied: numpy>=1.21.2 in /usr/local/lib/python3.10/dist-packages (from opencv-python) (1.25.2)\n"
          ]
        }
      ]
    },
    {
      "cell_type": "code",
      "source": [
        "import cv2\n",
        "import numpy as np\n",
        "\n",
        "custom_image = cv2.imread(\"/content/7 mnist.png\", cv2.IMREAD_GRAYSCALE)\n",
        "\n",
        "resized_image = cv2.resize(custom_image, (28, 28))\n",
        "\n",
        "normalized_image = resized_image / 255.0\n",
        "\n",
        "input_image = np.expand_dims(normalized_image, axis=(0, -1))\n",
        "\n",
        "assert input_image.shape == (1, 28, 28, 1)\n",
        "\n",
        "predictions = model.predict(input_image)\n",
        "\n",
        "predicted_digit = np.argmax(predictions)\n",
        "\n",
        "print(\"Predicted Digit:\", predicted_digit)\n"
      ],
      "metadata": {
        "id": "5H1cblWxeUV1",
        "colab": {
          "base_uri": "https://localhost:8080/"
        },
        "outputId": "b6a3d3c1-302f-4866-fa81-b9f270db4ab1"
      },
      "execution_count": 9,
      "outputs": [
        {
          "output_type": "stream",
          "name": "stdout",
          "text": [
            "1/1 [==============================] - 0s 312ms/step\n",
            "Predicted Digit: 7\n"
          ]
        }
      ]
    }
  ]
}